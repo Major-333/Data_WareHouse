{
 "cells": [
  {
   "cell_type": "code",
   "execution_count": 3,
   "metadata": {},
   "outputs": [],
   "source": [
    "import pandas as pd\n",
    "import numpy as np\n",
    "from bs4 import BeautifulSoup\n",
    "from UnionFind import UnionFind\n",
    "import pickle\n",
    "import os\n",
    "from fuzzywuzzy import fuzz\n",
    "from fuzzywuzzy import process"
   ]
  },
  {
   "cell_type": "code",
   "execution_count": 7,
   "metadata": {},
   "outputs": [
    {
     "name": "stdout",
     "output_type": "stream",
     "text": [
      "207885\n"
     ]
    }
   ],
   "source": [
    "label_path = 'data/labels.csv'\n",
    "\n",
    "filtered_path = 'data/filtered.csv'\n",
    "filtered_list = []\n",
    "\n",
    "df = pd.read_csv(label_path)\n",
    "\n",
    "label_list = np.array(df['title'])\n",
    "id_list = np.array(df['id'])\n",
    "\n",
    "for label, p_id in zip(label_list, id_list):\n",
    "    if label != '[]' and 'Movies' in label:\n",
    "        filtered_list.append(p_id)\n",
    "print(len(filtered_list))"
   ]
  },
  {
   "cell_type": "code",
   "execution_count": 8,
   "metadata": {},
   "outputs": [],
   "source": [
    "pd.DataFrame(filtered_list,index=None, columns=['p_id']).to_csv(filtered_path)"
   ]
  },
  {
   "cell_type": "code",
   "execution_count": null,
   "metadata": {},
   "outputs": [],
   "source": []
  },
  {
   "cell_type": "code",
   "execution_count": 21,
   "metadata": {},
   "outputs": [],
   "source": [
    "class Filter(object):\n",
    "    \n",
    "    def __init__(\n",
    "        self,\n",
    "        save_path,\n",
    "        prime_video_path,\n",
    "        label_path,\n",
    "        deduplicate_path,\n",
    "        file_list,\n",
    "        file_path,\n",
    "        pv_filter_path,\n",
    "        label_filter_path\n",
    "    ):\n",
    "        # init path\n",
    "        self._uf_dict = pickle.load(open(deduplicate_path, 'rb'))\n",
    "        self._save_path = save_path\n",
    "        self._pv_path = prime_video_path\n",
    "        self._label_path = label_path\n",
    "        self._deduplicate_path = deduplicate_path\n",
    "        self._file_list = file_list\n",
    "        self._file_path = file_path\n",
    "        self._pv_filter_path = pv_filter_path\n",
    "        self._label_filter_path = label_filter_path\n",
    "        # filter\n",
    "        self._filtered_list = []\n",
    "        self.get_deduplicate_list()\n",
    "        final = np.union1d(self.filter_by_label(),self.filter_prime_video())\n",
    "        print('[length of final]: ', len(final))\n",
    "        \n",
    "    def get_deduplicate_list(self):\n",
    "        for index, key in enumerate(self._uf_dict):\n",
    "            if key == sorted(list(self._uf_dict[key]))[0]:\n",
    "                self._filtered_list.append(key)\n",
    "        self._filtered_list = np.array(self._filtered_list)\n",
    "        print('[length of deduplicate_list]: ', len(self._filtered_list))\n",
    "            \n",
    "    def filter_by_label(self, reCalculate=False):\n",
    "        # 注意，这个过滤器基于deduplicate后的filtered_list\n",
    "        # 注意，这个过滤器会滤掉所有prime video\n",
    "        if reCalculate:\n",
    "            tmp_list = []\n",
    "            df = pd.read_csv(self._label_path)\n",
    "            label_list = np.array(df['title'])\n",
    "            id_list = np.array(df['id'])\n",
    "            for label, p_id in zip(label_list, id_list):\n",
    "                if label != '[]' and 'Movies' in label and p_id in self._filtered_list:\n",
    "                    tmp_list.append(p_id)\n",
    "            ans = np.intersect1d(np.array(self._filtered_list), np.array(tmp_list)) \n",
    "            print('[length of filtered_list by label]: ', ans.shape)\n",
    "            pd.DataFrame(ans,index=None, columns=['p_id']).to_csv(self._label_filter_path)\n",
    "            print('finish write to label_filter_list.csv')\n",
    "            return ans\n",
    "        else:\n",
    "            return np.array(pd.read_csv(self._label_filter_path)['p_id'])\n",
    "\n",
    "        \n",
    "    def filter_prime_video(self, reCalculate=False):\n",
    "        # 注意，这个过滤器基于deduplicate后的filtered_list\n",
    "        # 注意，这个过滤器只能保留prime video\n",
    "        if reCalculate:\n",
    "\n",
    "            tmp_list = []\n",
    "            prime_video_list = np.array(pd.read_csv(self._pv_path)['p_id'])\n",
    "            print(prime_video_list.shape)\n",
    "            for index, file_name in enumerate(self._file_list):\n",
    "                if index % 5000 == 0:\n",
    "                    print('[index]:', index)          \n",
    "                ct_id = file_name.split('.')[0][-10:]\n",
    "                if ct_id in prime_video_list and ct_id in self._filtered_list:      \n",
    "                    # 解析html文件\n",
    "                    content = open(self._file_path+'/'+file_name, 'r').read()\n",
    "                    soup = BeautifulSoup(content, 'lxml')\n",
    "                    try:\n",
    "                        div = str(soup.find(id=\"dv-action-box-wrapper\"))\n",
    "                        if 'titleType=movie' in div:\n",
    "                            tmp_list.append(ct_id)\n",
    "                    except :\n",
    "                        pass\n",
    "            print('[length of filtered_list by prime video]: ', len(tmp_list))\n",
    "            pd.DataFrame(np.array(tmp_list),index=None, columns=['p_id']).to_csv(self._pv_filter_path)\n",
    "            print('finish write to pv_filter_list.csv')\n",
    "            return np.array(tmp_list)\n",
    "        else:\n",
    "            return np.array(pd.read_csv(self._pv_filter_path)['p_id'])\n",
    "\n",
    "        \n",
    "        \n",
    "        "
   ]
  },
  {
   "cell_type": "code",
   "execution_count": 8,
   "metadata": {},
   "outputs": [
    {
     "name": "stdout",
     "output_type": "stream",
     "text": [
      "[length of deduplicate_list]:  167893\n",
      "[length of filtered_list by label]:  (131159,)\n",
      "finish write to label_filter_list.csv\n",
      "(35226,)\n",
      "[index]: 0\n",
      "[index]: 5000\n",
      "[index]: 10000\n",
      "[index]: 15000\n",
      "[index]: 20000\n",
      "[index]: 25000\n",
      "[index]: 30000\n",
      "[index]: 35000\n",
      "[index]: 40000\n",
      "[index]: 45000\n",
      "[index]: 50000\n",
      "[index]: 55000\n",
      "[index]: 60000\n",
      "[index]: 65000\n",
      "[index]: 70000\n",
      "[index]: 75000\n",
      "[index]: 80000\n",
      "[index]: 85000\n",
      "[index]: 90000\n",
      "[index]: 95000\n",
      "[index]: 100000\n",
      "[index]: 105000\n",
      "[index]: 110000\n",
      "[index]: 115000\n",
      "[index]: 120000\n",
      "[index]: 125000\n",
      "[index]: 130000\n",
      "[index]: 135000\n",
      "[index]: 140000\n",
      "[index]: 145000\n",
      "[index]: 150000\n",
      "[index]: 155000\n",
      "[index]: 160000\n",
      "[index]: 165000\n",
      "[index]: 170000\n",
      "[index]: 175000\n",
      "[index]: 180000\n",
      "[index]: 185000\n",
      "[index]: 190000\n",
      "[index]: 195000\n",
      "[index]: 200000\n",
      "[index]: 205000\n",
      "[index]: 210000\n",
      "[index]: 215000\n",
      "[index]: 220000\n",
      "[index]: 225000\n",
      "[index]: 230000\n",
      "[index]: 235000\n",
      "[index]: 240000\n",
      "[index]: 245000\n",
      "[index]: 250000\n",
      "[length of filtered_list by prime video]:  25049\n",
      "finish write to pv_filter_list.csv\n"
     ]
    }
   ],
   "source": [
    "path = '/media/googlecamp/Teclast_S301/zips/_unzip'  # 待读取文件的文件夹绝对地址\n",
    "f_list = os.listdir(path)  # 获得文件夹中所有文件的名称列表\n",
    "label_path = 'data/labels.csv'\n",
    "save_path = 'data/filtered.csv'\n",
    "deduplicate_path = 'data/UFMap/component_mapping.pickle'\n",
    "prime_video_path = 'data/ErrorPages/error_id_list.csv'\n",
    "pv_filter_path = 'data/pv_filter_list.csv'\n",
    "label_filter_path = 'data/label_filter_list.csv'\n",
    "filter = Filter(save_path, prime_video_path, label_path, deduplicate_path, f_list, path, pv_filter_path, label_filter_path)"
   ]
  },
  {
   "cell_type": "code",
   "execution_count": 22,
   "metadata": {},
   "outputs": [
    {
     "name": "stdout",
     "output_type": "stream",
     "text": [
      "[length of deduplicate_list]:  167893\n",
      "[length of final]:  156208\n"
     ]
    }
   ],
   "source": [
    "path = '/media/googlecamp/Teclast_S301/zips/_unzip'  # 待读取文件的文件夹绝对地址\n",
    "f_list = os.listdir(path)  # 获得文件夹中所有文件的名称列表\n",
    "label_path = 'data/labels.csv'\n",
    "save_path = 'data/filtered.csv'\n",
    "deduplicate_path = 'data/UFMap/component_mapping.pickle'\n",
    "prime_video_path = 'data/ErrorPages/error_id_list.csv'\n",
    "pv_filter_path = 'data/pv_filter_list.csv'\n",
    "label_filter_path = 'data/label_filter_list.csv'\n",
    "filter = Filter(save_path, prime_video_path, label_path, deduplicate_path, f_list, path, pv_filter_path, label_filter_path)"
   ]
  },
  {
   "cell_type": "code",
   "execution_count": null,
   "metadata": {},
   "outputs": [],
   "source": []
  }
 ],
 "metadata": {
  "kernelspec": {
   "display_name": "dw",
   "language": "python",
   "name": "dw"
  },
  "language_info": {
   "codemirror_mode": {
    "name": "ipython",
    "version": 3
   },
   "file_extension": ".py",
   "mimetype": "text/x-python",
   "name": "python",
   "nbconvert_exporter": "python",
   "pygments_lexer": "ipython3",
   "version": "3.6.12"
  }
 },
 "nbformat": 4,
 "nbformat_minor": 4
}
